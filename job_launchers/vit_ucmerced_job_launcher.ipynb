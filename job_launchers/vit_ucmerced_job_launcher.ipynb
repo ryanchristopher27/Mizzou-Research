{
 "cells": [
  {
   "cell_type": "markdown",
   "metadata": {},
   "source": [
    "# Job Launcher for ViT on UCMerced Landuse Datset\n",
    "\n",
    "### Create Jobs"
   ]
  },
  {
   "cell_type": "code",
   "execution_count": 1,
   "metadata": {},
   "outputs": [
    {
     "ename": "ModuleNotFoundError",
     "evalue": "No module named 'nautiluslauncher'",
     "output_type": "error",
     "traceback": [
      "\u001b[0;31m---------------------------------------------------------------------------\u001b[0m",
      "\u001b[0;31mModuleNotFoundError\u001b[0m                       Traceback (most recent call last)",
      "Cell \u001b[0;32mIn[1], line 1\u001b[0m\n\u001b[0;32m----> 1\u001b[0m \u001b[38;5;28;01mfrom\u001b[39;00m \u001b[38;5;21;01mnautiluslauncher\u001b[39;00m \u001b[38;5;28;01mimport\u001b[39;00m NautilusJobLauncher\n\u001b[1;32m      3\u001b[0m namespace \u001b[38;5;241m=\u001b[39m \u001b[38;5;28;01mNone\u001b[39;00m\n\u001b[1;32m      4\u001b[0m job_prefix \u001b[38;5;241m=\u001b[39m \u001b[38;5;124m\"\u001b[39m\u001b[38;5;124mmyname-\u001b[39m\u001b[38;5;124m\"\u001b[39m\n",
      "\u001b[0;31mModuleNotFoundError\u001b[0m: No module named 'nautiluslauncher'"
     ]
    }
   ],
   "source": [
    "from nautiluslauncher import NautilusJobLauncher\n",
    "\n",
    "namespace = None\n",
    "job_prefix = \"myname-\"\n",
    "command = [\"python\", \"-c\", \"print('hello world')\"]\n",
    "\n",
    "jobs = {\n",
    "    \"namespace\": namespace,\n",
    "    \"jobs\": [\n",
    "        {\"image\": \"python:3.6\", \"command\": command, \"job_name\": job_prefix + \"1\"},\n",
    "        {\"image\": \"python:3.7\", \"command\": command, \"job_name\": job_prefix + \"2\"},\n",
    "        {\"image\": \"python:3.8\", \"command\": command, \"job_name\": job_prefix + \"3\"},\n",
    "    ],\n",
    "}\n",
    "\n",
    "jobs"
   ]
  }
 ],
 "metadata": {
  "kernelspec": {
   "display_name": "ms_research",
   "language": "python",
   "name": "python3"
  },
  "language_info": {
   "codemirror_mode": {
    "name": "ipython",
    "version": 3
   },
   "file_extension": ".py",
   "mimetype": "text/x-python",
   "name": "python",
   "nbconvert_exporter": "python",
   "pygments_lexer": "ipython3",
   "version": "3.11.7"
  }
 },
 "nbformat": 4,
 "nbformat_minor": 2
}
